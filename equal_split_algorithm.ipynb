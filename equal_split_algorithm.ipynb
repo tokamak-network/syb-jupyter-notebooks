{
 "cells": [
  {
   "cell_type": "markdown",
   "id": "6dfde8ee",
   "metadata": {},
   "source": [
    "# SYB scoring algorithm Demo-Notebook: Equal Split Algorithm\n",
    "\n",
    "This notebook demonstrates the **Equal Split Scoring** algorithm. This method computes new scores based on minimizing a ratio over a specific set of subsets. The algorithm's score for each node is a measure of its connectivity and its location relative to a 'cut' in the graph. The algorithm is defined as follows:\n",
    "\n",
    "Given a graph $G=(V,E)$ and a previous score vector $x$, the new score $y_i$ for a vertex $i$ is:\n",
    "\n",
    "$$\n",
    "y_i = \\min\\limits_{S: i \\in S, x_S < \\frac{1}{2}x_V}\\frac{|\\partial S|^\\sigma}{|S|}\n",
    "$$ \n",
    "\n",
    "where:\n",
    "- $S$ is a non-empty subset of vertices in the graph.\n",
    "- $|S|$ is the number of vertices in subset $S$.\n",
    "- $x_S$ is the sum of the scores of all vertices in $S$.\n",
    "- $x_V$ is the sum of the scores of all vertices in the entire graph.\n",
    "- $|\\partial S|$ is the number of edges with exactly one endpoint in $S$ (the boundary edges).\n",
    "- $\\sigma \\ge 1$ is a tunable parameter.\n",
    "\n",
    "**WARNING:** This algorithm has exponential complexity, making it infeasible for graphs with more than about 18 vertices. However, it serves as a valuable benchmark for other, more scalable algorithms. \n",
    "\n",
    "### Code Behavior\n",
    "\n",
    "- On input two values, $n=$ N_VERTICES and $m=$ M_EDGES, it generates a random graph ($G$) over $n$ vertices and $m$ edges.\n",
    "- It initializes a vector $x$ of non-negative score values as the normalized degree of each vertex, then computes the next score values of the nodes using the formula above (if the graph is totally disjoint, it initializes the scores uniformly as $1/n$).\n",
    "- It plots the graph with initial and updated values.\n",
    "- It then prompts the user to add an edge between two vertices.\n",
    "    - If the edge already exists, it asks for another pair.\n",
    "    - Otherwise, it adds the edge, computes the new scores, and plots the updated graph with the new values."
   ]
  },
  {
   "cell_type": "markdown",
   "id": "a79dc78b",
   "metadata": {},
   "source": [
    "By selecting the next code block and executing it (by hitting SHIFT+ENTER or pressing the run button), you can run the first part of the algorithm."
   ]
  },
  {
   "cell_type": "code",
   "execution_count": null,
   "id": "8e929fee",
   "metadata": {},
   "outputs": [],
   "source": [
    "import equal_split_algorithm as algo\n",
    "N_VERTICES = 10\n",
    "M_EDGES = 15\n",
    "G, updated_scores = algo.generate_graph_and_display(N_VERTICES, M_EDGES)"
   ]
  },
  {
   "cell_type": "markdown",
   "id": "7a870aec",
   "metadata": {},
   "source": [
    "Once we have run the above block, we can add an edge to the graph by running the next code block. The algorithm will then execute the second part of the code, namely:"
   ]
  },
  {
   "cell_type": "code",
   "execution_count": null,
   "id": "bffa7925",
   "metadata": {},
   "outputs": [],
   "source": [
    "G, updated_scores = algo.handle_user_edge_addition(G, updated_scores)"
   ]
  },
  {
   "cell_type": "markdown",
   "id": "6dc0dd1e",
   "metadata": {},
   "source": []
  }
 ],
 "metadata": {
  "kernelspec": {
   "display_name": "Python 3",
   "language": "python",
   "name": "python3"
  },
  "language_info": {
   "name": "python",
   "version": "3.13.2"
  }
 },
 "nbformat": 4,
 "nbformat_minor": 5
}
