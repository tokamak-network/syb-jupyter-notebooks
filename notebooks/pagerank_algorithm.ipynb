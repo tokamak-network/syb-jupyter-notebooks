{
 "cells": [
  {
   "cell_type": "markdown",
   "id": "6dfde8ee",
   "metadata": {},
   "source": [
    "# SYB scoring algorithm Demo-Notebook: Personalized PageRank Algorithm\n",
    "\n",
    "This notebook demonstrates the **Personalized PageRank** algorithm, which provides a more scalable approach to approximating the results of the Equal Split algorithm. It leverages personalized PageRank vectors to define scores for each node. The scoring function is defined as follows:\n",
    "\n",
    "Given a graph $G$ and a score vector $x$, to compute the new score $y_i$ for a vertex $i$:\n",
    "\n",
    "1.  Compute the personalized PageRank vector, $pr(\\alpha, u_i)$, where $u_i$ is a unit vector with a 1 at position $i$.\n",
    "2.  Create a permutation of all nodes by sorting them in descending order based on their PageRank scores.\n",
    "3.  For each $j$ from 1 to $n$, define the subset $S_j$ as the first $j$ nodes in this sorted permutation.\n",
    "4.  The new score $y_i$ is defined as:\n",
    "$$\n",
    "y_i = \\min\\limits_{j: i \\in S_j, x_{S_j} < \\frac{1}{2}x_V}\\frac{|\\partial S_j|^\\sigma}{|S_j|}.\n",
    "$$ \n",
    "\n",
    "This approach avoids iterating through all possible subsets, making it feasible for larger graphs than the Equal Split algorithm.\n",
    "\n",
    "### Code Behavior\n",
    "\n",
    "- On input two values, $n=$ N_VERTICES and $m=$ M_EDGES, it generates a random graph ($G$) over $n$ vertices and $m$ edges.\n",
    "- It initializes a vector $x$ of non-negative score values as the normalized degree of each vertex, then computes the next score values of the nodes using the personalized PageRank-based formula (if the graph is totally disjoint, it initializes the scores uniformly as $1/n$).\n",
    "- It plots the graph with initial and updated values.\n",
    "- It then prompts the user to add an edge between two vertices.\n",
    "    - If the edge already exists, it asks for another pair.\n",
    "    - Otherwise, it adds the edge, computes the new scores, and plots the updated graph with the new values."
   ]
  },
  {
   "cell_type": "markdown",
   "id": "a79dc78b",
   "metadata": {},
   "source": [
    "By selecting the next code block and executing it (by hitting SHIFT+ENTER or pressing the run button), you can run the first part of the algorithm."
   ]
  },
  {
   "cell_type": "code",
   "execution_count": null,
   "id": "8e929fee",
   "metadata": {},
   "outputs": [],
   "source": [
    "import pagerank_algorithm as algo\n",
    "N_VERTICES = 10\n",
    "M_EDGES = 15\n",
    "G, updated_scores = algo.generate_graph_and_display(N_VERTICES, M_EDGES)"
   ]
  },
  {
   "cell_type": "markdown",
   "id": "7a870aec",
   "metadata": {},
   "source": [
    "Once we have run the above block, we can add an edge to the graph by running the next code block. The algorithm will then execute the second part of the code, namely:"
   ]
  },
  {
   "cell_type": "code",
   "execution_count": null,
   "id": "bffa7925",
   "metadata": {},
   "outputs": [],
   "source": [
    "G, updated_scores = algo.handle_user_edge_addition(G, updated_scores)"
   ]
  },
  {
   "cell_type": "markdown",
   "id": "6dc0dd1e",
   "metadata": {},
   "source": []
  }
 ],
 "metadata": {
  "kernelspec": {
   "display_name": "Python 3",
   "language": "python",
   "name": "python3"
  },
  "language_info": {
   "name": "python",
   "version": "3.13.2"
  }
 },
 "nbformat": 4,
 "nbformat_minor": 5
}
