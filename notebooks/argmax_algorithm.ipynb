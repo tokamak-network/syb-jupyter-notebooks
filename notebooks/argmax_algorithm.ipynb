{
 "cells": [
  {
   "cell_type": "markdown",
   "id": "6dfde8ee",
   "metadata": {},
   "source": [
    "# SYB scoring algorithm Demo-Notebook: Linear Programming Algorithm\n",
    "\n",
    "This notebook demonstrates the **Linear Programming (Argmax) Algorithm**, which computes new scores by optimizing over a specific polytope. This approach is useful for theoretical analysis as it finds a provably optimal score vector that is as 'close' as possible to the old scores, while maximizing the total score sum.\n",
    "\n",
    "The new score vector $y$ is defined as the unique vector with the following properties:\n",
    "\n",
    "1.  $y \\in \\argmax_{y' \\in P_{G,x}} \\sum_{i} y'_i$\n",
    "2.  $y_V = x_V$\n",
    "3.  $||y-x||$ is minimal\n",
    "\n",
    "where $P_{G,x}$ is the polytope defined as:\n",
    "\n",
    "$$\n",
    "P_{G,x} = \\{y \\in \\mathbb{R}_{\\geq 0}^V : y_S \\leq |\\partial S|^\\sigma \\text{ for all } S \\text{ such that } x_S < \\frac{1}{2}x_V\\}.\n",
    "$$ \n",
    "\n",
    "This is solved in two steps using optimization algorithms:\n",
    "\n",
    "1.  A **linear program** finds a vector $y'$ that maximizes the sum of its components over the polytope $P_{G,x}$.\n",
    "2.  A **quadratic program** then finds a vector $y$ that minimizes the Euclidean distance $||y-x||$ while satisfying the linear constraints and the new constraint that its components sum to the maximum value found in Step 1.\n",
    "\n",
    "**WARNING:** This algorithm has exponential complexity, making it extremely slow for graphs with more than about 10 vertices.\n",
    "\n",
    "### Code Behavior\n",
    "\n",
    "- On input two values, $n=$ N_VERTICES and $m=$ M_EDGES, it generates a random graph ($G$) over $n$ vertices and $m$ edges.\n",
    "- It initializes a vector $x$ of non-negative score values as the normalized degree of each vertex, then computes the next score values using the optimization-based formula (if the graph is totally disjoint, it initializes the scores uniformly as $1/n$).\n",
    "- It plots the graph with initial and updated values.\n",
    "- It then prompts the user to add an edge between two vertices.\n",
    "    - If the edge already exists, it asks for another pair.\n",
    "    - Otherwise, it adds the edge, computes the new scores, and plots the updated graph with the new values."
   ]
  },
  {
   "cell_type": "markdown",
   "id": "a79dc78b",
   "metadata": {},
   "source": [
    "By selecting the next code block and executing it (by hitting SHIFT+ENTER or pressing the run button), you can run the first part of the algorithm."
   ]
  },
  {
   "cell_type": "code",
   "execution_count": null,
   "id": "8e929fee",
   "metadata": {},
   "outputs": [],
   "source": [
    "import syb_network.algorithms.argmax as algo\n",
    "N_VERTICES = 10\n",
    "M_EDGES = 15\n",
    "G, updated_scores = algo.generate_graph_and_display(N_VERTICES, M_EDGES)"
   ]
  },
  {
   "cell_type": "markdown",
   "id": "7a870aec",
   "metadata": {},
   "source": [
    "Once we have run the above block, we can add an edge to the graph by running the next code block. The algorithm will then execute the second part of the code, namely:"
   ]
  },
  {
   "cell_type": "code",
   "execution_count": null,
   "id": "bffa7925",
   "metadata": {},
   "outputs": [],
   "source": [
    "G, updated_scores = algo.handle_user_edge_addition(G, updated_scores)"
   ]
  },
  {
   "cell_type": "markdown",
   "id": "6dc0dd1e",
   "metadata": {},
   "source": []
  }
 ],
 "metadata": {
  "kernelspec": {
   "display_name": "venv",
   "language": "python",
   "name": "python3"
  },
  "language_info": {
   "codemirror_mode": {
    "name": "ipython",
    "version": 3
   },
   "file_extension": ".py",
   "mimetype": "text/x-python",
   "name": "python",
   "nbconvert_exporter": "python",
   "pygments_lexer": "ipython3",
   "version": "3.9.6"
  }
 },
 "nbformat": 4,
 "nbformat_minor": 5
}
