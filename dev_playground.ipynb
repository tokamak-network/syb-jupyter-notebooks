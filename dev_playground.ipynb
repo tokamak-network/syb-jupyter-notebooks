{
 "cells": [
  {
   "cell_type": "markdown",
   "id": "1b2cfca9",
   "metadata": {},
   "source": [
    "# Developer Playground\n",
    "\n",
    "This notebook demonstrates the usage of the `Network` class for graph operations, scoring algorithms, and network analysis.\n",
    "\n",
    "## Overview\n",
    "The `Network` class provides:\n",
    "- Graph `graph` management with node balances `balance_list`\n",
    "- Multiple scoring algorithms (Random Walk, PageRank, Equal Split, Argmax)\n",
    "- Matrix conversion capabilities (`graph` -> `vouch matrix`; `vouch matrix` -> `graph`)\n",
    "- Dynamic graph modification (add/remove nodes and edges)\n"
   ]
  },
  {
   "cell_type": "markdown",
   "id": "afb4152c",
   "metadata": {},
   "source": [
    "## 1. Create Random Networks\n",
    "\n",
    "Create two random networks using the `init_random` class method:\n",
    "- `n1`: 10 nodes with random balances (0-100)\n",
    "- `n2`: 20 nodes with random balances (0-100)\n",
    "\n",
    "Both use the Erdos-Renyi random graph model.\n"
   ]
  },
  {
   "cell_type": "code",
   "execution_count": 11,
   "id": "5dd767d8",
   "metadata": {},
   "outputs": [],
   "source": [
    "from network import Network\n",
    "\n",
    "n1 = Network.init_random(10, balance_range=(0, 100), random_name='erdos_renyi')\n",
    "n2 = Network.init_random(20, balance_range=(0, 100), random_name='erdos_renyi')"
   ]
  },
  {
   "cell_type": "markdown",
   "id": "fe3b813c",
   "metadata": {},
   "source": [
    "## 2. Inspect Network Properties\n",
    "\n",
    "Display the balance list and adjacency matrix of the first network (`n1`):\n",
    "- **Balance List**: Shows the balance/weight of each node\n",
    "- **Vouch Matrix**: Shows the connection (vouch) structure between nodes\n"
   ]
  },
  {
   "cell_type": "code",
   "execution_count": null,
   "id": "bc08ebbc",
   "metadata": {},
   "outputs": [],
   "source": [
    "print(n1.get_balance_list())\n",
    "print(n1.to_matrix())"
   ]
  },
  {
   "cell_type": "markdown",
   "id": "681347be",
   "metadata": {},
   "source": [
    "## 3. Test All Scoring Algorithms\n",
    "\n",
    "Run all four scoring algorithms on network `n1`:\n",
    "- **Random Walk**\n",
    "- **PageRank**\n",
    "- **Equal Split**\n",
    "- **Argmax**\n",
    "\n",
    "Each algorithm may produce different node rankings based on the network structure.\n"
   ]
  },
  {
   "cell_type": "code",
   "execution_count": null,
   "id": "6b186d6e",
   "metadata": {},
   "outputs": [],
   "source": [
    "n1.compute_score('random_walk')\n",
    "n1.compute_score('pagerank')\n",
    "n1.compute_score('equal_split')\n",
    "n1.compute_score('argmax')"
   ]
  },
  {
   "cell_type": "markdown",
   "id": "e61c28eb",
   "metadata": {},
   "source": [
    "## 4. Dynamic Network Modification (Network 1)\n",
    "\n",
    "Demonstrate how network modifications affect scoring:\n",
    "1. **Initial Random Walk**: Compute scores on original network\n",
    "2. **Add Node**: Add a new node (ID=10) with balance=10.0\n",
    "3. **Recompute Scores**: See how adding a node affects the scoring\n",
    "4. **Add Edge**: Connect the new node to existing node 1\n",
    "5. **Final Scores**: Observe how the connection changes the scoring distribution\n",
    "\n",
    "This shows the dynamic nature of the scoring algorithms.\n"
   ]
  },
  {
   "cell_type": "code",
   "execution_count": null,
   "id": "da35ad39",
   "metadata": {},
   "outputs": [],
   "source": [
    "n1.compute_score('random_walk')\n",
    "n1.add_node(10, balance=10.0)\n",
    "n1.compute_score('random_walk')\n",
    "n1.add_edge(1, 10)\n",
    "n1.compute_score('random_walk')"
   ]
  },
  {
   "cell_type": "markdown",
   "id": "d93589f0",
   "metadata": {},
   "source": [
    "## 5. Dynamic Network Modification (Network 2)\n",
    "\n",
    "Repeat the same experiment on the larger network (`n2`):\n",
    "1. **Initial Random Walk**: Compute scores on 20-node network\n",
    "2. **Add Node**: Add a new node (ID=20) with balance=10.0\n",
    "3. **Recompute Scores**: Observe changes in the larger network\n",
    "4. **Add Edge**: Connect new node to existing node 1\n",
    "5. **Final Scores**: See how the modification affects the scoring\n",
    "\n",
    "Compare the results with the smaller network to understand scale effects.\n"
   ]
  },
  {
   "cell_type": "code",
   "execution_count": null,
   "id": "52837f0c",
   "metadata": {},
   "outputs": [],
   "source": [
    "n2.compute_score('random_walk')\n",
    "n2.add_node(20, balance=10.0)\n",
    "n2.compute_score('random_walk')\n",
    "n2.add_edge(1, 20)\n",
    "n2.compute_score('random_walk')"
   ]
  },
  {
   "cell_type": "markdown",
   "id": "e9144f7c",
   "metadata": {},
   "source": [
    "## Now it's your turn!"
   ]
  },
  {
   "cell_type": "code",
   "execution_count": null,
   "id": "e94735b4",
   "metadata": {},
   "outputs": [],
   "source": [
    "# n3 = Network.init_random(10, balance_range=(0, 100), random_name='erdos_renyi')\n",
    "# n3.compute_score('equal_split')\n",
    "# n3.add_node(10, balance=10.0)\n",
    "# n3.compute_score('equal_split')\n",
    "# n3.add_edge(1, 10)\n",
    "# n3.compute_score('equal_split')\n"
   ]
  }
 ],
 "metadata": {
  "kernelspec": {
   "display_name": "venv",
   "language": "python",
   "name": "python3"
  },
  "language_info": {
   "codemirror_mode": {
    "name": "ipython",
    "version": 3
   },
   "file_extension": ".py",
   "mimetype": "text/x-python",
   "name": "python",
   "nbconvert_exporter": "python",
   "pygments_lexer": "ipython3",
   "version": "3.9.6"
  }
 },
 "nbformat": 4,
 "nbformat_minor": 5
}
