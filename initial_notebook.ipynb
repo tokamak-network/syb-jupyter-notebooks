{
 "cells": [
  {
   "cell_type": "markdown",
   "id": "6dfde8ee",
   "metadata": {},
   "source": [
    "# SYB scoring algorithms Demo-Notebook\n",
    "\n",
    "The aim of this notebook is to give an hand-on introduction to the problem of devising **Sybil-resistant scoring algorithms** in a graph network. In this context, the network is represented as an undirected graph $G = (V(G), E(G))$, where vertices are users and edges signify that two users have vouched for each other.\n",
    "\n",
    "The primary goal of these algorithms is to assign a score to each user that reflects their trustworthiness and resistance to Sybil attacks. \n",
    "\n",
    "A Sybil attack is a type of attack where a single malicious entity creates multiple fake identities (Sybil nodes) to gain a disproportionate influence in a system. The algorithms compute a new score vector, $y$, from an existing score vector, $x$, to evaluate a user's standing within the network: would these algorithms counteract such attacks?\n",
    "\n",
    "# SYB Scoring Algorithms: A Comparison of a few algorithms\n",
    "\n",
    "We provide an overview of four different scoring algorithms; detailed demonstrations can be found in separate notebooks, where one can test hands-on if a scoring algorithm is Sybil-resistant or not. \n",
    "\n",
    "All algorithms are implemented to work with a graph $G = (V(G), E(G))$, where vertices $V(G)$ represent users and edges $E(G)$ signify a mutual vouching relationship. A **score vector** $x \\in \\mathbb{R}_{\\geq 0}^{|V(G)|}$ assigns a non-negative score to each user.\n",
    "\n",
    "## Brief description\n",
    "\n",
    "---\n",
    "\n",
    "### 1. Random Walk Algorithm\n",
    "\n",
    "This algorithm is based on a simple random walk approach. The new score for a user is determined by the scores of their neighbors, weighted by the degree of those neighbors. It's an intuitive approach where a user's score is a function of the scores of the users who vouched for them.\n",
    "\n",
    "**Formula**: The new score $y_i$ for vertex $i$ is given by:\n",
    "$$y_i:=\\sum\\limits_{(j,i)\\in E(G)}\\frac{x_j}{\\deg(j)}$$\n",
    "\n",
    "**Code Behavior**: The code generates a random graph with $n$ vertices and $m$ edges. It initializes the score vector $x$ uniformly as $[1/n, 1/n, \\ldots, 1/n]$. The algorithm then computes the new scores using the formula and plots the graph with both initial and updated values. It prompts the user to add an edge, and if a new edge is added, it recomputes and plots the updated scores.\n",
    "\n",
    "**Further details**: [Random walk scoring algorithm](https://mybinder.org/v2/gh/tokamak-network/syb-jupyter-notebooks/HEAD?urlpath=%2Fdoc%2Ftree%2Frandom_walk_scoring_algorithm.ipynb).\n",
    "\n",
    "---\n",
    "\n",
    "### 2. Equal Split Algorithm\n",
    "\n",
    "The Equal Split algorithm calculates new scores by finding the minimum value of a specific ratio over certain subsets of the graph. This approach serves as a theoretical benchmark for more scalable algorithms.\n",
    "\n",
    "**Formula**: The new score $y_i$ for a vertex $i$ is defined as:\n",
    "$$y_i = \\min\\limits_{S: i \\in S, x_S < \\frac{1}{2}x_V}\\frac{|\\partial S|^\\sigma}{|S|}$$\n",
    "**Complexity**: This algorithm has **exponential complexity**, making it impractical for graphs with more than approximately 18 vertices.\n",
    "\n",
    "**Code Behavior**: The code generates a random graph with $n$ vertices and $m$ edges. It initializes the score vector $x$ as the normalized degree of each vertex (or uniformly if the graph is disjoint). It then computes the new scores, plots the graph, and allows the user to add a new edge, recomputing and replotting the scores if the graph is updated.\n",
    "\n",
    "**Further details**: [Equal split scoring algorithm](https://mybinder.org/v2/gh/tokamak-network/syb-jupyter-notebooks/HEAD?urlpath=%2Fdoc%2Ftree%2Fequal_split_algorithm.ipynb).\n",
    "\n",
    "---\n",
    "\n",
    "### 3. Personalized PageRank Algorithm\n",
    "\n",
    "The Personalized PageRank algorithm is a more scalable approximation of the Equal Split algorithm. Instead of iterating through all subsets, it leverages personalized PageRank vectors to define scores, making it feasible for larger graphs.\n",
    "\n",
    "**Formula**: The new score $y_i$ for a vertex $i$ is defined as:\n",
    "$$y_i = \\min\\limits_{j: i \\in S_j, x_{S_j} < \\frac{1}{2}x_V}\\frac{|\\partial S_j|^\\sigma}{|S_j|}.$$\n",
    "Here, $S_j$ is a subset of nodes based on a sorted permutation derived from the personalized PageRank vector.\n",
    "\n",
    "**Relationship to Equal Split**: This algorithm provides a practical and scalable way to approximate the results of the Equal Split algorithm, which is otherwise too computationally expensive for large graphs.\n",
    "\n",
    "**Code Behavior**: The code generates a random graph with $n$ vertices and $m$ edges. It initializes the score vector $x$ as the normalized degree of each vertex (or uniformly if the graph is disjoint). It then computes the new scores, plots the graph, and allows the user to add a new edge, recomputing and replotting the scores upon update.\n",
    "\n",
    "**Further details**: [Pagerank scoring algorithm](https://mybinder.org/v2/gh/tokamak-network/syb-jupyter-notebooks/HEAD?urlpath=%2Fdoc%2Ftree%2Fpagerank_algorithm.ipynb).\n",
    "\n",
    "---\n",
    "\n",
    "### 4. Linear Programming (Argmax) Algorithm\n",
    "\n",
    "This algorithm computes scores by optimizing over a specific polytope using linear and quadratic programming. It is primarily used for theoretical analysis to find a provably optimal score vector that is as 'close' as possible to the old scores while maximizing the total score sum.\n",
    "\n",
    "**Formula**: The new score vector $y$ is the unique vector that satisfies three properties:\n",
    "1. $y \\in \\argmax_{y' \\in P_{G,x}} \\sum_{i} y'_i$\n",
    "2. $y_V = x_V$\n",
    "3. $||y-x||$ is minimal\n",
    "\n",
    "**Complexity**: Like the Equal Split algorithm, this one also has **exponential complexity**, making it extremely slow for graphs with more than 10 vertices.\n",
    "\n",
    "**Code Behavior**: The code generates a random graph with $n$ vertices and $m$ edges. It initializes the score vector $x$ as the normalized degree of each vertex (or uniformly if the graph is disjoint). The algorithm then computes the new scores, plots the graph, and allows the user to add a new edge, recomputing and replotting the scores if the graph is updated.\n",
    "\n",
    "**Further details**: [Argmax scoring algorithm](https://mybinder.org/v2/gh/tokamak-network/syb-jupyter-notebooks/HEAD?urlpath=%2Fdoc%2Ftree%2Fargmax_algorithm.ipynb).\n",
    "\n",
    "---\n",
    "\n",
    "## Algorithm Comparison Table\n",
    "\n",
    "| Algorithm | Core Concept | Complexity | Primary Use Case | Scalability |\n",
    "| :--- | :--- | :--- | :--- | :--- |\n",
    "| **Random Walk** | Distributes scores from neighbors | Efficient, simple calculation | Simple scoring based on local connections | High |\n",
    "| **Equal Split** | Minimizes a ratio over all subsets | Exponential ($>18$ vertices) | Theoretical benchmark | Low |\n",
    "| **Personalized PageRank** | Approximates Equal Split using PageRank | More scalable than Equal Split | Practical, scalable alternative to Equal Split | Medium to High |\n",
    "| **Linear Programming (Argmax)** | Optimizes over a polytope | Exponential ($>10$ vertices) | Theoretical analysis to find optimal vector | Very Low |\n",
    "```"
   ]
  },
  {
   "cell_type": "markdown",
   "id": "a79dc78b",
   "metadata": {},
   "source": [
    "By selecting the next code block and executing it (by hitting SHIFT+ENTER or pressing the run button), you can run a simulation comparing the four algorithms."
   ]
  },
  {
   "cell_type": "code",
   "execution_count": null,
   "id": "8e929fee",
   "metadata": {},
   "outputs": [],
   "source": [
    "import comparison\n",
    "N_VERTICES = 10\n",
    "M_EDGES = 15\n",
    "G, updated_scores = comparison.compare(N_VERTICES, M_EDGES)"
   ]
  },
  {
   "cell_type": "markdown",
   "id": "7a870aec",
   "metadata": {},
   "source": [
    "Once we have run the above block, we can add an edge to the graph by running the next code block. The algorithm will then execute the second part of the code, namely, an infinite loop where we keep updating the above graph. (Type 'q' to quit)"
   ]
  },
  {
   "cell_type": "code",
   "execution_count": null,
   "id": "bffa7925",
   "metadata": {},
   "outputs": [],
   "source": [
    "comparison.handle_user_edge_addition(G, updated_scores, N_VERTICES, M_EDGES)"
   ]
  }
 ],
 "metadata": {
  "kernelspec": {
   "display_name": "Python 3",
   "language": "python",
   "name": "python3"
  },
  "language_info": {
   "name": "python",
   "version": "3.13.2"
  }
 },
 "nbformat": 4,
 "nbformat_minor": 5
}
